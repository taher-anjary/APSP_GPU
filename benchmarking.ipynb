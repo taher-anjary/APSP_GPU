{
 "cells": [
  {
   "cell_type": "code",
   "execution_count": null,
   "metadata": {},
   "outputs": [],
   "source": [
    "import torch\n",
    "import torch_scatter\n",
    "import time\n",
    "import numpy as np\n",
    "import matplotlib.pyplot as plt\n",
    "import networkx as nx\n",
    "import json"
   ]
  },
  {
   "cell_type": "code",
   "execution_count": null,
   "metadata": {},
   "outputs": [],
   "source": [
    "from utilss import benchmark, save_to_json, load_from_json, sort_by_and_plot\n",
    "from apsp import FW_GPU, R_Kleene"
   ]
  },
  {
   "cell_type": "code",
   "execution_count": null,
   "metadata": {},
   "outputs": [],
   "source": [
    "torch.cuda.device_count()"
   ]
  },
  {
   "cell_type": "code",
   "execution_count": null,
   "metadata": {},
   "outputs": [],
   "source": [
    "A = torch.Tensor([  [0, 5, torch.inf, 10],\n",
    "                    [torch.inf, 0, 3, torch.inf],\n",
    "                    [torch.inf, torch.inf, 0, 1],\n",
    "                    [torch.inf, torch.inf, torch.inf, 0] ])"
   ]
  },
  {
   "cell_type": "code",
   "execution_count": null,
   "metadata": {},
   "outputs": [],
   "source": [
    "do_nx = True\n",
    "big_dict = benchmark(num_exps=1000, max_nodes=1000, max_density=100, do_nx=do_nx)\n",
    "save_to_json(big_dict)"
   ]
  },
  {
   "cell_type": "code",
   "execution_count": null,
   "metadata": {},
   "outputs": [],
   "source": [
    "big_dict = load_from_json('big_dict2.json')"
   ]
  },
  {
   "cell_type": "code",
   "execution_count": null,
   "metadata": {},
   "outputs": [],
   "source": [
    "do_nx = True\n",
    "sort_by_and_plot(big_dict, sort_by='edges', do_nx=True, exp_slice=None)"
   ]
  },
  {
   "cell_type": "code",
   "execution_count": null,
   "metadata": {},
   "outputs": [],
   "source": [
    "sort_by_and_plot(big_dict, sort_by='edges', do_nx=False, exp_slice=None)"
   ]
  },
  {
   "cell_type": "code",
   "execution_count": null,
   "metadata": {},
   "outputs": [],
   "source": [
    "from apsp import FW_iter\n",
    "FW_iter(A)"
   ]
  }
 ],
 "metadata": {
  "kernelspec": {
   "display_name": "prime",
   "language": "python",
   "name": "python3"
  },
  "language_info": {
   "codemirror_mode": {
    "name": "ipython",
    "version": 3
   },
   "file_extension": ".py",
   "mimetype": "text/x-python",
   "name": "python",
   "nbconvert_exporter": "python",
   "pygments_lexer": "ipython3",
   "version": "3.8.12 (default, Oct 12 2021, 13:49:34) \n[GCC 7.5.0]"
  },
  "orig_nbformat": 4,
  "vscode": {
   "interpreter": {
    "hash": "3a505342b8f8ec6e392b07c17fb44b96227f47f39bd704660f118636a1044574"
   }
  }
 },
 "nbformat": 4,
 "nbformat_minor": 2
}
